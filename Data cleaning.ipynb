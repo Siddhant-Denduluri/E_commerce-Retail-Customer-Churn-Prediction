{
 "cells": [
  {
   "cell_type": "code",
   "execution_count": 1,
   "id": "463c4dd0-6bc4-4afe-8f36-359c8db93b32",
   "metadata": {},
   "outputs": [],
   "source": [
    "import pandas as pd\n",
    "import numpy as np\n",
    "import seaborn as sns\n",
    "import matplotlib.pyplot as plt"
   ]
  },
  {
   "cell_type": "code",
   "execution_count": 2,
   "id": "426b8d60-15db-46fa-bb06-55df4fa07d9a",
   "metadata": {},
   "outputs": [
    {
     "data": {
      "text/html": [
       "<div>\n",
       "<style scoped>\n",
       "    .dataframe tbody tr th:only-of-type {\n",
       "        vertical-align: middle;\n",
       "    }\n",
       "\n",
       "    .dataframe tbody tr th {\n",
       "        vertical-align: top;\n",
       "    }\n",
       "\n",
       "    .dataframe thead th {\n",
       "        text-align: right;\n",
       "    }\n",
       "</style>\n",
       "<table border=\"1\" class=\"dataframe\">\n",
       "  <thead>\n",
       "    <tr style=\"text-align: right;\">\n",
       "      <th></th>\n",
       "      <th>CustomerID</th>\n",
       "      <th>Tenure</th>\n",
       "      <th>PreferredLoginDevice</th>\n",
       "      <th>CityTier</th>\n",
       "      <th>WarehouseToHome</th>\n",
       "      <th>PreferredPaymentMode</th>\n",
       "      <th>Gender</th>\n",
       "      <th>HourSpendOnApp</th>\n",
       "      <th>NumberOfDeviceRegistered</th>\n",
       "      <th>PreferedOrderCat</th>\n",
       "      <th>SatisfactionScore</th>\n",
       "      <th>MaritalStatus</th>\n",
       "      <th>NumberOfAddress</th>\n",
       "      <th>Complain</th>\n",
       "      <th>OrderAmountHikeFromlastYear</th>\n",
       "      <th>CouponUsed</th>\n",
       "      <th>OrderCount</th>\n",
       "      <th>DaySinceLastOrder</th>\n",
       "      <th>CashbackAmount</th>\n",
       "      <th>Churn</th>\n",
       "    </tr>\n",
       "  </thead>\n",
       "  <tbody>\n",
       "    <tr>\n",
       "      <th>0</th>\n",
       "      <td>50001</td>\n",
       "      <td>4.0</td>\n",
       "      <td>Mobile Phone</td>\n",
       "      <td>3</td>\n",
       "      <td>6.0</td>\n",
       "      <td>Debit Card</td>\n",
       "      <td>Female</td>\n",
       "      <td>3.0</td>\n",
       "      <td>3</td>\n",
       "      <td>Laptop &amp; Accessory</td>\n",
       "      <td>2</td>\n",
       "      <td>Single</td>\n",
       "      <td>9</td>\n",
       "      <td>1</td>\n",
       "      <td>11.0</td>\n",
       "      <td>1.0</td>\n",
       "      <td>1.0</td>\n",
       "      <td>5.0</td>\n",
       "      <td>159.93</td>\n",
       "      <td>1</td>\n",
       "    </tr>\n",
       "    <tr>\n",
       "      <th>1</th>\n",
       "      <td>50002</td>\n",
       "      <td>NaN</td>\n",
       "      <td>Phone</td>\n",
       "      <td>1</td>\n",
       "      <td>8.0</td>\n",
       "      <td>UPI</td>\n",
       "      <td>Male</td>\n",
       "      <td>3.0</td>\n",
       "      <td>4</td>\n",
       "      <td>Mobile</td>\n",
       "      <td>3</td>\n",
       "      <td>Single</td>\n",
       "      <td>7</td>\n",
       "      <td>1</td>\n",
       "      <td>15.0</td>\n",
       "      <td>0.0</td>\n",
       "      <td>1.0</td>\n",
       "      <td>0.0</td>\n",
       "      <td>120.90</td>\n",
       "      <td>1</td>\n",
       "    </tr>\n",
       "    <tr>\n",
       "      <th>2</th>\n",
       "      <td>50003</td>\n",
       "      <td>NaN</td>\n",
       "      <td>Phone</td>\n",
       "      <td>1</td>\n",
       "      <td>30.0</td>\n",
       "      <td>Debit Card</td>\n",
       "      <td>Male</td>\n",
       "      <td>2.0</td>\n",
       "      <td>4</td>\n",
       "      <td>Mobile</td>\n",
       "      <td>3</td>\n",
       "      <td>Single</td>\n",
       "      <td>6</td>\n",
       "      <td>1</td>\n",
       "      <td>14.0</td>\n",
       "      <td>0.0</td>\n",
       "      <td>1.0</td>\n",
       "      <td>3.0</td>\n",
       "      <td>120.28</td>\n",
       "      <td>1</td>\n",
       "    </tr>\n",
       "    <tr>\n",
       "      <th>3</th>\n",
       "      <td>50004</td>\n",
       "      <td>0.0</td>\n",
       "      <td>Phone</td>\n",
       "      <td>3</td>\n",
       "      <td>15.0</td>\n",
       "      <td>Debit Card</td>\n",
       "      <td>Male</td>\n",
       "      <td>2.0</td>\n",
       "      <td>4</td>\n",
       "      <td>Laptop &amp; Accessory</td>\n",
       "      <td>5</td>\n",
       "      <td>Single</td>\n",
       "      <td>8</td>\n",
       "      <td>0</td>\n",
       "      <td>23.0</td>\n",
       "      <td>0.0</td>\n",
       "      <td>1.0</td>\n",
       "      <td>3.0</td>\n",
       "      <td>134.07</td>\n",
       "      <td>1</td>\n",
       "    </tr>\n",
       "    <tr>\n",
       "      <th>4</th>\n",
       "      <td>50005</td>\n",
       "      <td>0.0</td>\n",
       "      <td>Phone</td>\n",
       "      <td>1</td>\n",
       "      <td>12.0</td>\n",
       "      <td>CC</td>\n",
       "      <td>Male</td>\n",
       "      <td>NaN</td>\n",
       "      <td>3</td>\n",
       "      <td>Mobile</td>\n",
       "      <td>5</td>\n",
       "      <td>Single</td>\n",
       "      <td>3</td>\n",
       "      <td>0</td>\n",
       "      <td>11.0</td>\n",
       "      <td>1.0</td>\n",
       "      <td>1.0</td>\n",
       "      <td>3.0</td>\n",
       "      <td>129.60</td>\n",
       "      <td>1</td>\n",
       "    </tr>\n",
       "  </tbody>\n",
       "</table>\n",
       "</div>"
      ],
      "text/plain": [
       "   CustomerID  Tenure PreferredLoginDevice  CityTier  WarehouseToHome  \\\n",
       "0       50001     4.0         Mobile Phone         3              6.0   \n",
       "1       50002     NaN                Phone         1              8.0   \n",
       "2       50003     NaN                Phone         1             30.0   \n",
       "3       50004     0.0                Phone         3             15.0   \n",
       "4       50005     0.0                Phone         1             12.0   \n",
       "\n",
       "  PreferredPaymentMode  Gender  HourSpendOnApp  NumberOfDeviceRegistered  \\\n",
       "0           Debit Card  Female             3.0                         3   \n",
       "1                  UPI    Male             3.0                         4   \n",
       "2           Debit Card    Male             2.0                         4   \n",
       "3           Debit Card    Male             2.0                         4   \n",
       "4                   CC    Male             NaN                         3   \n",
       "\n",
       "     PreferedOrderCat  SatisfactionScore MaritalStatus  NumberOfAddress  \\\n",
       "0  Laptop & Accessory                  2        Single                9   \n",
       "1              Mobile                  3        Single                7   \n",
       "2              Mobile                  3        Single                6   \n",
       "3  Laptop & Accessory                  5        Single                8   \n",
       "4              Mobile                  5        Single                3   \n",
       "\n",
       "   Complain  OrderAmountHikeFromlastYear  CouponUsed  OrderCount  \\\n",
       "0         1                         11.0         1.0         1.0   \n",
       "1         1                         15.0         0.0         1.0   \n",
       "2         1                         14.0         0.0         1.0   \n",
       "3         0                         23.0         0.0         1.0   \n",
       "4         0                         11.0         1.0         1.0   \n",
       "\n",
       "   DaySinceLastOrder  CashbackAmount  Churn  \n",
       "0                5.0          159.93      1  \n",
       "1                0.0          120.90      1  \n",
       "2                3.0          120.28      1  \n",
       "3                3.0          134.07      1  \n",
       "4                3.0          129.60      1  "
      ]
     },
     "execution_count": 2,
     "metadata": {},
     "output_type": "execute_result"
    }
   ],
   "source": [
    "df = pd.read_excel('E Commerce Dataset.xlsx')\n",
    "df.head()"
   ]
  },
  {
   "cell_type": "code",
   "execution_count": 5,
   "id": "757b956c-9576-4833-93d2-9b6352da3a8f",
   "metadata": {},
   "outputs": [
    {
     "name": "stdout",
     "output_type": "stream",
     "text": [
      "<class 'pandas.core.frame.DataFrame'>\n",
      "RangeIndex: 5630 entries, 0 to 5629\n",
      "Data columns (total 20 columns):\n",
      " #   Column                       Non-Null Count  Dtype  \n",
      "---  ------                       --------------  -----  \n",
      " 0   CustomerID                   5630 non-null   int64  \n",
      " 1   Tenure                       5366 non-null   float64\n",
      " 2   PreferredLoginDevice         5630 non-null   object \n",
      " 3   CityTier                     5630 non-null   int64  \n",
      " 4   WarehouseToHome              5379 non-null   float64\n",
      " 5   PreferredPaymentMode         5630 non-null   object \n",
      " 6   Gender                       5630 non-null   object \n",
      " 7   HourSpendOnApp               5375 non-null   float64\n",
      " 8   NumberOfDeviceRegistered     5630 non-null   int64  \n",
      " 9   PreferedOrderCat             5630 non-null   object \n",
      " 10  SatisfactionScore            5630 non-null   int64  \n",
      " 11  MaritalStatus                5630 non-null   object \n",
      " 12  NumberOfAddress              5630 non-null   int64  \n",
      " 13  Complain                     5630 non-null   int64  \n",
      " 14  OrderAmountHikeFromlastYear  5365 non-null   float64\n",
      " 15  CouponUsed                   5374 non-null   float64\n",
      " 16  OrderCount                   5372 non-null   float64\n",
      " 17  DaySinceLastOrder            5323 non-null   float64\n",
      " 18  CashbackAmount               5630 non-null   float64\n",
      " 19  Churn                        5630 non-null   int64  \n",
      "dtypes: float64(8), int64(7), object(5)\n",
      "memory usage: 879.8+ KB\n"
     ]
    }
   ],
   "source": [
    "df.info()"
   ]
  },
  {
   "cell_type": "code",
   "execution_count": 7,
   "id": "ff353ab5-60de-41b6-a3a8-dd12eabc27b8",
   "metadata": {},
   "outputs": [
    {
     "data": {
      "text/plain": [
       "CustomerID                     5630\n",
       "Tenure                           36\n",
       "PreferredLoginDevice              3\n",
       "CityTier                          3\n",
       "WarehouseToHome                  34\n",
       "PreferredPaymentMode              7\n",
       "Gender                            2\n",
       "HourSpendOnApp                    6\n",
       "NumberOfDeviceRegistered          6\n",
       "PreferedOrderCat                  6\n",
       "SatisfactionScore                 5\n",
       "MaritalStatus                     3\n",
       "NumberOfAddress                  15\n",
       "Complain                          2\n",
       "OrderAmountHikeFromlastYear      16\n",
       "CouponUsed                       17\n",
       "OrderCount                       16\n",
       "DaySinceLastOrder                22\n",
       "CashbackAmount                 2586\n",
       "Churn                             2\n",
       "dtype: int64"
      ]
     },
     "execution_count": 7,
     "metadata": {},
     "output_type": "execute_result"
    }
   ],
   "source": [
    "df.nunique()"
   ]
  },
  {
   "cell_type": "code",
   "execution_count": 9,
   "id": "7cfd38d7-6ffa-4d37-a86e-356764abf877",
   "metadata": {},
   "outputs": [
    {
     "name": "stdout",
     "output_type": "stream",
     "text": [
      "Column Name : Tenure\n",
      "[ 4. nan  0. 13. 11.  9. 19. 20. 14.  8. 18.  5.  2. 30.  1. 23.  3. 29.\n",
      "  6. 26. 28.  7. 24. 25. 10. 15. 22. 27. 16. 12. 21. 17. 50. 60. 31. 51.\n",
      " 61.]\n",
      "-------------------------------------------------------------\n",
      "Column Name : PreferredLoginDevice\n",
      "['Mobile Phone' 'Phone' 'Computer']\n",
      "-------------------------------------------------------------\n",
      "Column Name : CityTier\n",
      "[3 1 2]\n",
      "-------------------------------------------------------------\n",
      "Column Name : WarehouseToHome\n",
      "[  6.   8.  30.  15.  12.  22.  11.   9.  31.  18.  13.  20.  29.  28.\n",
      "  26.  14.  nan  10.  27.  17.  23.  33.  19.  35.  24.  16.  25.  32.\n",
      "  34.   5.  21. 126.   7.  36. 127.]\n",
      "-------------------------------------------------------------\n",
      "Column Name : PreferredPaymentMode\n",
      "['Debit Card' 'UPI' 'CC' 'Cash on Delivery' 'E wallet' 'COD' 'Credit Card']\n",
      "-------------------------------------------------------------\n",
      "Column Name : Gender\n",
      "['Female' 'Male']\n",
      "-------------------------------------------------------------\n",
      "Column Name : HourSpendOnApp\n",
      "[ 3.  2. nan  1.  0.  4.  5.]\n",
      "-------------------------------------------------------------\n",
      "Column Name : NumberOfDeviceRegistered\n",
      "[3 4 5 2 1 6]\n",
      "-------------------------------------------------------------\n",
      "Column Name : PreferedOrderCat\n",
      "['Laptop & Accessory' 'Mobile' 'Mobile Phone' 'Others' 'Fashion' 'Grocery']\n",
      "-------------------------------------------------------------\n",
      "Column Name : SatisfactionScore\n",
      "[2 3 5 4 1]\n",
      "-------------------------------------------------------------\n",
      "Column Name : MaritalStatus\n",
      "['Single' 'Divorced' 'Married']\n",
      "-------------------------------------------------------------\n",
      "Column Name : NumberOfAddress\n",
      "[ 9  7  6  8  3  2  4 10  1  5 19 21 11 20 22]\n",
      "-------------------------------------------------------------\n",
      "Column Name : Complain\n",
      "[1 0]\n",
      "-------------------------------------------------------------\n",
      "Column Name : OrderAmountHikeFromlastYear\n",
      "[11. 15. 14. 23. 22. 16. 12. nan 13. 17. 18. 24. 19. 20. 21. 25. 26.]\n",
      "-------------------------------------------------------------\n",
      "Column Name : CouponUsed\n",
      "[ 1.  0.  4.  2.  9.  6. 11. nan  7. 12. 10.  5.  3. 13. 15.  8. 14. 16.]\n",
      "-------------------------------------------------------------\n",
      "Column Name : OrderCount\n",
      "[ 1.  6.  2. 15.  4.  7.  3.  9. nan 11.  5. 12. 10.  8. 13. 14. 16.]\n",
      "-------------------------------------------------------------\n",
      "Column Name : DaySinceLastOrder\n",
      "[ 5.  0.  3.  7.  2.  1.  8.  6.  4. 15.  9. 11. 10. nan 13. 12. 17. 16.\n",
      " 14. 30. 46. 18. 31.]\n",
      "-------------------------------------------------------------\n",
      "Column Name : Churn\n",
      "[1 0]\n",
      "-------------------------------------------------------------\n"
     ]
    }
   ],
   "source": [
    "for col in df.drop(['CustomerID', 'CashbackAmount'], axis=1).columns:\n",
    "  print('Column Name :', col)\n",
    "  print(df[col].unique())\n",
    "  print('-------------------------------------------------------------')"
   ]
  },
  {
   "cell_type": "markdown",
   "id": "a88f98aa-cd77-497d-91b5-d0039bb7459a",
   "metadata": {},
   "source": [
    "# OBSERVATIONS:\n",
    "\n",
    "1. **PreferredLoginDevice**: The values 'Mobile Phone' and 'Mobile' both likely refer to mobile devices, as it's not possible to log in using a landline. To ensure consistency, standardize these values by replacing both with 'Mobile.'\n",
    "   \n",
    "2. **WarehouseToHome**: There are some unusually high values, such as 126 and 127, which are unlikely since most people don’t travel such long distances to purchase goods. These seem to be input errors, so adjust the values: replace 126 with 26 and 127 with 27.\n",
    "   \n",
    "3. **PreferredPaymentMode**:\n",
    "   - 'CC' and 'Credit Card' both refer to the same payment method, so standardize them as 'CC.'\n",
    "   - 'Cash on Delivery' and 'COD' also indicate the same payment method; replace both with 'COD.'\n",
    "   - For consistency, rename 'Debit Card' as 'DC.'\n",
    "   \n",
    "4. **PreferedOrderCat**:\n",
    "   - 'Mobile' and 'Mobile Phone' refer to the same category, so change both to 'Mobile.'\n",
    "   - Simplify 'Laptop & Accessory' to 'Laptop' for convenience.\n",
    "   \n",
    "5. **NumberOfAddress**: Some values exceed 10, which seems implausible. These values require further investigation to verify their accuracy."
   ]
  },
  {
   "cell_type": "code",
   "execution_count": 13,
   "id": "aca10e02-4324-494e-986d-3535e436896f",
   "metadata": {},
   "outputs": [
    {
     "name": "stderr",
     "output_type": "stream",
     "text": [
      "C:\\Users\\91932\\AppData\\Local\\Temp\\ipykernel_4520\\2726075726.py:1: FutureWarning: A value is trying to be set on a copy of a DataFrame or Series through chained assignment using an inplace method.\n",
      "The behavior will change in pandas 3.0. This inplace method will never work because the intermediate object on which we are setting values always behaves as a copy.\n",
      "\n",
      "For example, when doing 'df[col].method(value, inplace=True)', try using 'df.method({col: value}, inplace=True)' or df[col] = df[col].method(value) instead, to perform the operation inplace on the original object.\n",
      "\n",
      "\n",
      "  df['PreferredLoginDevice'].replace({'Mobile Phone':'Mobile', 'Phone':'Mobile'}, inplace=True)\n",
      "C:\\Users\\91932\\AppData\\Local\\Temp\\ipykernel_4520\\2726075726.py:2: FutureWarning: A value is trying to be set on a copy of a DataFrame or Series through chained assignment using an inplace method.\n",
      "The behavior will change in pandas 3.0. This inplace method will never work because the intermediate object on which we are setting values always behaves as a copy.\n",
      "\n",
      "For example, when doing 'df[col].method(value, inplace=True)', try using 'df.method({col: value}, inplace=True)' or df[col] = df[col].method(value) instead, to perform the operation inplace on the original object.\n",
      "\n",
      "\n",
      "  df['WarehouseToHome'].replace({126:26, 127:27}, inplace=True)\n",
      "C:\\Users\\91932\\AppData\\Local\\Temp\\ipykernel_4520\\2726075726.py:3: FutureWarning: A value is trying to be set on a copy of a DataFrame or Series through chained assignment using an inplace method.\n",
      "The behavior will change in pandas 3.0. This inplace method will never work because the intermediate object on which we are setting values always behaves as a copy.\n",
      "\n",
      "For example, when doing 'df[col].method(value, inplace=True)', try using 'df.method({col: value}, inplace=True)' or df[col] = df[col].method(value) instead, to perform the operation inplace on the original object.\n",
      "\n",
      "\n",
      "  df['PreferredPaymentMode'].replace({'Credit Card':'CC', 'Cash on Delivery':'COD', 'Debit Card':'DC' }, inplace=True)\n",
      "C:\\Users\\91932\\AppData\\Local\\Temp\\ipykernel_4520\\2726075726.py:4: FutureWarning: A value is trying to be set on a copy of a DataFrame or Series through chained assignment using an inplace method.\n",
      "The behavior will change in pandas 3.0. This inplace method will never work because the intermediate object on which we are setting values always behaves as a copy.\n",
      "\n",
      "For example, when doing 'df[col].method(value, inplace=True)', try using 'df.method({col: value}, inplace=True)' or df[col] = df[col].method(value) instead, to perform the operation inplace on the original object.\n",
      "\n",
      "\n",
      "  df['PreferedOrderCat'].replace({'Mobile Phone':'Mobile', 'Laptop & Accessory':'Laptop'}, inplace=True)\n"
     ]
    }
   ],
   "source": [
    "df['PreferredLoginDevice'].replace({'Mobile Phone':'Mobile', 'Phone':'Mobile'}, inplace=True)\n",
    "df['WarehouseToHome'].replace({126:26, 127:27}, inplace=True)\n",
    "df['PreferredPaymentMode'].replace({'Credit Card':'CC', 'Cash on Delivery':'COD', 'Debit Card':'DC' }, inplace=True)\n",
    "df['PreferedOrderCat'].replace({'Mobile Phone':'Mobile', 'Laptop & Accessory':'Laptop'}, inplace=True)"
   ]
  },
  {
   "cell_type": "code",
   "execution_count": 15,
   "id": "7f7dbbfe-36be-4d33-99f2-82fd47f22543",
   "metadata": {},
   "outputs": [
    {
     "data": {
      "text/plain": [
       "2612"
      ]
     },
     "execution_count": 15,
     "metadata": {},
     "output_type": "execute_result"
    }
   ],
   "source": [
    "df[df.NumberOfAddress>3].shape[0]"
   ]
  },
  {
   "cell_type": "markdown",
   "id": "7553cd7f-dd8e-4c55-a7c9-53ecccfe7a38",
   "metadata": {},
   "source": [
    "There seems to be 2612 customers with more than 3 addresses registered in the ecommerce platform, in their name. This seems very unlikely. But we cannot rule out the following possibilities:\n",
    "\n",
    "The customer might have multiple properties(houses) in their name.\n",
    "Slight change in the address text.\n",
    "Addresses of workplace/workplaces if the customer works shifts.\n",
    "Ordering for someone else\n",
    "Someone else must be ordering in the customer's name name(either other family member with the customer's knowledge or in the rare case fraud transactions by outsiders).\n",
    "In the above mention cases, multiple addresses might be added.\n",
    "\n",
    "If we have some other information like the actual list of addresses registered or the locations where the orders were made, number of family members, number of children, occupation related information, annual income etc., we might get a little bit insight into the possibility of customers have multiple addresses.\n",
    "\n",
    "However, since we do not have them, we need to explore with the available information and reach a conclusion. We shall analyse more in the EDA process and come to a conclusion."
   ]
  },
  {
   "cell_type": "code",
   "execution_count": 17,
   "id": "f7fb0c22-b8db-4122-b551-de42184de719",
   "metadata": {},
   "outputs": [
    {
     "data": {
      "text/plain": [
       "CustomerID                       0\n",
       "Tenure                         264\n",
       "PreferredLoginDevice             0\n",
       "CityTier                         0\n",
       "WarehouseToHome                251\n",
       "PreferredPaymentMode             0\n",
       "Gender                           0\n",
       "HourSpendOnApp                 255\n",
       "NumberOfDeviceRegistered         0\n",
       "PreferedOrderCat                 0\n",
       "SatisfactionScore                0\n",
       "MaritalStatus                    0\n",
       "NumberOfAddress                  0\n",
       "Complain                         0\n",
       "OrderAmountHikeFromlastYear    265\n",
       "CouponUsed                     256\n",
       "OrderCount                     258\n",
       "DaySinceLastOrder              307\n",
       "CashbackAmount                   0\n",
       "Churn                            0\n",
       "dtype: int64"
      ]
     },
     "execution_count": 17,
     "metadata": {},
     "output_type": "execute_result"
    }
   ],
   "source": [
    "df.isna().sum()"
   ]
  },
  {
   "cell_type": "code",
   "execution_count": 19,
   "id": "dc9d2337-6cbd-462c-92b6-c840dc880ae1",
   "metadata": {},
   "outputs": [
    {
     "data": {
      "text/plain": [
       "['Tenure',\n",
       " 'WarehouseToHome',\n",
       " 'HourSpendOnApp',\n",
       " 'OrderAmountHikeFromlastYear',\n",
       " 'CouponUsed',\n",
       " 'OrderCount',\n",
       " 'DaySinceLastOrder']"
      ]
     },
     "execution_count": 19,
     "metadata": {},
     "output_type": "execute_result"
    }
   ],
   "source": [
    "missing_cols = [col for col in df.columns if df[col].isnull().any()]\n",
    "missing_cols"
   ]
  },
  {
   "cell_type": "code",
   "execution_count": 21,
   "id": "f95432b6-372f-4919-b790-02d3d442a20b",
   "metadata": {},
   "outputs": [
    {
     "data": {
      "text/html": [
       "<div>\n",
       "<style scoped>\n",
       "    .dataframe tbody tr th:only-of-type {\n",
       "        vertical-align: middle;\n",
       "    }\n",
       "\n",
       "    .dataframe tbody tr th {\n",
       "        vertical-align: top;\n",
       "    }\n",
       "\n",
       "    .dataframe thead th {\n",
       "        text-align: right;\n",
       "    }\n",
       "</style>\n",
       "<table border=\"1\" class=\"dataframe\">\n",
       "  <thead>\n",
       "    <tr style=\"text-align: right;\">\n",
       "      <th></th>\n",
       "      <th>column</th>\n",
       "      <th>no. of missing values</th>\n",
       "      <th>percentage</th>\n",
       "    </tr>\n",
       "  </thead>\n",
       "  <tbody>\n",
       "    <tr>\n",
       "      <th>0</th>\n",
       "      <td>Tenure</td>\n",
       "      <td>264</td>\n",
       "      <td>4.689165</td>\n",
       "    </tr>\n",
       "    <tr>\n",
       "      <th>1</th>\n",
       "      <td>WarehouseToHome</td>\n",
       "      <td>251</td>\n",
       "      <td>4.458259</td>\n",
       "    </tr>\n",
       "    <tr>\n",
       "      <th>2</th>\n",
       "      <td>HourSpendOnApp</td>\n",
       "      <td>255</td>\n",
       "      <td>4.529307</td>\n",
       "    </tr>\n",
       "    <tr>\n",
       "      <th>3</th>\n",
       "      <td>OrderAmountHikeFromlastYear</td>\n",
       "      <td>265</td>\n",
       "      <td>4.706927</td>\n",
       "    </tr>\n",
       "    <tr>\n",
       "      <th>4</th>\n",
       "      <td>CouponUsed</td>\n",
       "      <td>256</td>\n",
       "      <td>4.547069</td>\n",
       "    </tr>\n",
       "    <tr>\n",
       "      <th>5</th>\n",
       "      <td>OrderCount</td>\n",
       "      <td>258</td>\n",
       "      <td>4.582593</td>\n",
       "    </tr>\n",
       "    <tr>\n",
       "      <th>6</th>\n",
       "      <td>DaySinceLastOrder</td>\n",
       "      <td>307</td>\n",
       "      <td>5.452931</td>\n",
       "    </tr>\n",
       "  </tbody>\n",
       "</table>\n",
       "</div>"
      ],
      "text/plain": [
       "                        column  no. of missing values  percentage\n",
       "0                       Tenure                    264    4.689165\n",
       "1              WarehouseToHome                    251    4.458259\n",
       "2               HourSpendOnApp                    255    4.529307\n",
       "3  OrderAmountHikeFromlastYear                    265    4.706927\n",
       "4                   CouponUsed                    256    4.547069\n",
       "5                   OrderCount                    258    4.582593\n",
       "6            DaySinceLastOrder                    307    5.452931"
      ]
     },
     "execution_count": 21,
     "metadata": {},
     "output_type": "execute_result"
    }
   ],
   "source": [
    "percent = df[missing_cols].isnull().sum() * 100/len(df)\n",
    "missing_df = pd.DataFrame({'column':missing_cols,\n",
    "                           'no. of missing values' : df[missing_cols].isnull().sum().values,\n",
    "                           'percentage' : percent.values})\n",
    "missing_df"
   ]
  },
  {
   "cell_type": "markdown",
   "id": "0727a971-3561-4392-80d0-e8d9e993cb48",
   "metadata": {},
   "source": [
    "We can see that\n",
    "\n",
    "\n",
    "\n",
    "1.**HourSpendOnApp** is normally distributed -> Fill missing values with mean\n",
    "\n",
    "\n",
    "\n",
    "2.**Tenure and OrderAmountHikeFromlastY**ear are moderately skewed -> Fill missing values with mean\n",
    "\n",
    "\n",
    "\n",
    "3.**WarehouseToHome, CouponUsed, OrderCount and DaySinceLastOrder** are highly skewed -> Fill missing values with Knn imputer since they are correlateddian"
   ]
  },
  {
   "cell_type": "code",
   "execution_count": 33,
   "id": "7c5fe904-483d-4c0e-a2a1-abe156a72891",
   "metadata": {},
   "outputs": [
    {
     "data": {
      "text/plain": [
       "(3, 10, 16)"
      ]
     },
     "execution_count": 33,
     "metadata": {},
     "output_type": "execute_result"
    }
   ],
   "source": [
    "round(df.HourSpendOnApp.mean()), round(df.Tenure.mean()), round(df.OrderAmountHikeFromlastYear.mean())\n",
    "     "
   ]
  },
  {
   "cell_type": "code",
   "execution_count": 35,
   "id": "f99349d7-7df1-465a-9782-6c28c6019776",
   "metadata": {},
   "outputs": [
    {
     "data": {
      "text/plain": [
       "(1.0, 2.0, 3.0, 14.0)"
      ]
     },
     "execution_count": 35,
     "metadata": {},
     "output_type": "execute_result"
    }
   ],
   "source": [
    "\n",
    "df.CouponUsed.median(), df.OrderCount.median(), df.DaySinceLastOrder.median(),df.WarehouseToHome.median()"
   ]
  },
  {
   "cell_type": "code",
   "execution_count": 39,
   "id": "4f65674b-22f7-435f-9513-a9ff39e12609",
   "metadata": {},
   "outputs": [],
   "source": [
    "df.fillna({'HourSpendOnApp':round(df.HourSpendOnApp.mean()), \n",
    "           'Tenure':round(df.Tenure.mean()), \n",
    "           'OrderAmountHikeFromlastYear':round(df.OrderAmountHikeFromlastYear.mean()),\n",
    "           'WarehouseToHome':df.WarehouseToHome.median(), \n",
    "           'CouponUsed':df.CouponUsed.median(), \n",
    "           'OrderCount':df.OrderCount.median(), \n",
    "           'DaySinceLastOrder':df.DaySinceLastOrder.median()}, inplace=True)"
   ]
  },
  {
   "cell_type": "code",
   "execution_count": 41,
   "id": "4108cbde-666d-4a26-86c7-97b79ea01c81",
   "metadata": {},
   "outputs": [
    {
     "data": {
      "text/plain": [
       "CustomerID                     0\n",
       "Tenure                         0\n",
       "PreferredLoginDevice           0\n",
       "CityTier                       0\n",
       "WarehouseToHome                0\n",
       "PreferredPaymentMode           0\n",
       "Gender                         0\n",
       "HourSpendOnApp                 0\n",
       "NumberOfDeviceRegistered       0\n",
       "PreferedOrderCat               0\n",
       "SatisfactionScore              0\n",
       "MaritalStatus                  0\n",
       "NumberOfAddress                0\n",
       "Complain                       0\n",
       "OrderAmountHikeFromlastYear    0\n",
       "CouponUsed                     0\n",
       "OrderCount                     0\n",
       "DaySinceLastOrder              0\n",
       "CashbackAmount                 0\n",
       "Churn                          0\n",
       "dtype: int64"
      ]
     },
     "execution_count": 41,
     "metadata": {},
     "output_type": "execute_result"
    }
   ],
   "source": [
    "df.isnull().sum()"
   ]
  },
  {
   "cell_type": "code",
   "execution_count": 43,
   "id": "d3ab12ec-d07c-4f2b-b665-335a73b68e7b",
   "metadata": {},
   "outputs": [
    {
     "name": "stdout",
     "output_type": "stream",
     "text": [
      "Dataset saved successfully to cleaned_data.xlsx\n"
     ]
    }
   ],
   "source": [
    "cleaned_data='cleaned_data.xlsx'\n",
    "df.to_excel(cleaned_data,index=False)\n",
    "print(f\"Dataset saved successfully to {cleaned_data}\")"
   ]
  },
  {
   "cell_type": "code",
   "execution_count": null,
   "id": "09fba135-b31e-481b-8420-9400b6ec9d46",
   "metadata": {},
   "outputs": [],
   "source": []
  }
 ],
 "metadata": {
  "kernelspec": {
   "display_name": "Python 3 (ipykernel)",
   "language": "python",
   "name": "python3"
  },
  "language_info": {
   "codemirror_mode": {
    "name": "ipython",
    "version": 3
   },
   "file_extension": ".py",
   "mimetype": "text/x-python",
   "name": "python",
   "nbconvert_exporter": "python",
   "pygments_lexer": "ipython3",
   "version": "3.12.4"
  }
 },
 "nbformat": 4,
 "nbformat_minor": 5
}
